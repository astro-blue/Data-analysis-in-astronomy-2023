{
 "cells": [
  {
   "cell_type": "code",
   "execution_count": 1,
   "id": "fbdaef36",
   "metadata": {},
   "outputs": [],
   "source": [
    "import numpy as np\n",
    "import matplotlib.pyplot as plt"
   ]
  },
  {
   "cell_type": "code",
   "execution_count": 2,
   "id": "949f264e",
   "metadata": {},
   "outputs": [],
   "source": [
    "def chi2(data,mu,sigma):\n",
    "    return np.sum(((data-mu)/sigma)**2) # This will follow a chi2 distribution"
   ]
  },
  {
   "cell_type": "code",
   "execution_count": 32,
   "id": "d92009a7",
   "metadata": {},
   "outputs": [],
   "source": [
    "mean_value = 10\n",
    "sigma = 5\n",
    "sample_size = 2\n",
    "chi2_list = []\n",
    "for i in range(0,10000):\n",
    "    x = np.random.normal(mean_value,sigma,sample_size)\n",
    "    chi2_list.append(chi2(x,mean_value,sigma))"
   ]
  },
  {
   "cell_type": "code",
   "execution_count": 33,
   "id": "842e2b39",
   "metadata": {},
   "outputs": [
    {
     "data": {
      "text/plain": [
       "(array([1.05067116, 1.01553166, 1.05418511, 0.95930845, 0.94525265,\n",
       "        0.85388994, 0.87145969, 0.78009699, 0.77658303, 0.72738773,\n",
       "        0.85740389, 0.75198538, 0.72387378, 0.66062267, 0.71684588,\n",
       "        0.67116452, 0.68522032, 0.62196922, 0.61142737, 0.4532996 ,\n",
       "        0.56574601, 0.52006466, 0.51655071, 0.52709256, 0.48492515,\n",
       "        0.49195305, 0.4603275 , 0.46384145, 0.36896479, 0.47789725,\n",
       "        0.39707639, 0.41113219, 0.43572985, 0.33382529, 0.37599269,\n",
       "        0.40059034, 0.30571368, 0.4181601 , 0.38653454, 0.33733924,\n",
       "        0.30571368, 0.31625553, 0.30922763, 0.29165788, 0.27057418,\n",
       "        0.30922763, 0.22137887, 0.26706023, 0.22489282, 0.26003233,\n",
       "        0.22137887, 0.29868578, 0.22489282, 0.24246258, 0.14055802,\n",
       "        0.16164172, 0.22137887, 0.24597653, 0.20732307, 0.18272542,\n",
       "        0.19678122, 0.14758592, 0.20380912, 0.11244641, 0.17569752,\n",
       "        0.14055802, 0.09487666, 0.11596036, 0.13353011, 0.11244641,\n",
       "        0.15461382, 0.10541851, 0.12298826, 0.08784876, 0.13353011,\n",
       "        0.11596036, 0.08784876, 0.08433481, 0.08082086, 0.11947431,\n",
       "        0.08433481, 0.08082086, 0.09136271, 0.07379296, 0.06676506,\n",
       "        0.10190456, 0.07730691, 0.08082086, 0.09487666, 0.06325111,\n",
       "        0.04919531, 0.07027901, 0.05270926, 0.04568135, 0.04919531,\n",
       "        0.07379296, 0.08433481, 0.07027901, 0.06676506, 0.03865345]),\n",
       " array([0.  , 0.03, 0.06, 0.09, 0.12, 0.15, 0.18, 0.21, 0.24, 0.27, 0.3 ,\n",
       "        0.33, 0.36, 0.39, 0.42, 0.45, 0.48, 0.51, 0.54, 0.57, 0.6 , 0.63,\n",
       "        0.66, 0.69, 0.72, 0.75, 0.78, 0.81, 0.84, 0.87, 0.9 , 0.93, 0.96,\n",
       "        0.99, 1.02, 1.05, 1.08, 1.11, 1.14, 1.17, 1.2 , 1.23, 1.26, 1.29,\n",
       "        1.32, 1.35, 1.38, 1.41, 1.44, 1.47, 1.5 , 1.53, 1.56, 1.59, 1.62,\n",
       "        1.65, 1.68, 1.71, 1.74, 1.77, 1.8 , 1.83, 1.86, 1.89, 1.92, 1.95,\n",
       "        1.98, 2.01, 2.04, 2.07, 2.1 , 2.13, 2.16, 2.19, 2.22, 2.25, 2.28,\n",
       "        2.31, 2.34, 2.37, 2.4 , 2.43, 2.46, 2.49, 2.52, 2.55, 2.58, 2.61,\n",
       "        2.64, 2.67, 2.7 , 2.73, 2.76, 2.79, 2.82, 2.85, 2.88, 2.91, 2.94,\n",
       "        2.97, 3.  ]),\n",
       " <BarContainer object of 100 artists>)"
      ]
     },
     "execution_count": 33,
     "metadata": {},
     "output_type": "execute_result"
    },
    {
     "data": {
      "image/png": "[encoded data removed]",
      "text/plain": [
       "<Figure size 432x288 with 1 Axes>"
      ]
     },
     "metadata": {
      "needs_background": "light"
     },
     "output_type": "display_data"
    }
   ],
   "source": [
    "plt.hist(np.array(chi2_list)/sample_size,density=1,range=(0,3),bins=100)"
   ]
  },
  {
   "cell_type": "code",
   "execution_count": null,
   "id": "38c72d8b",
   "metadata": {},
   "outputs": [],
   "source": []
  }
 ],
 "metadata": {
  "kernelspec": {
   "display_name": "Python 3 (ipykernel)",
   "language": "python",
   "name": "python3"
  },
  "language_info": {
   "codemirror_mode": {
    "name": "ipython",
    "version": 3
   },
   "file_extension": ".py",
   "mimetype": "text/x-python",
   "name": "python",
   "nbconvert_exporter": "python",
   "pygments_lexer": "ipython3",
   "version": "3.9.7"
  }
 },
 "nbformat": 4,
 "nbformat_minor": 5
}
