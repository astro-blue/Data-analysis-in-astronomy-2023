{
 "cells": [
  {
   "cell_type": "markdown",
   "id": "00455a45",
   "metadata": {},
   "source": [
    "### Data analysis in astronomy at NTU \n",
    "\n",
    "Week 6\n",
    "\n",
    "Ting-Wen Lan \n",
    "\n",
    "Cross-correlation"
   ]
  },
  {
   "cell_type": "code",
   "execution_count": 5,
   "id": "765788d2",
   "metadata": {},
   "outputs": [],
   "source": [
    "import numpy as np\n",
    "import matplotlib.pyplot as plt"
   ]
  },
  {
   "cell_type": "code",
   "execution_count": 6,
   "id": "2991f4b7",
   "metadata": {},
   "outputs": [],
   "source": [
    "### https://www.dropbox.com/s/oo9o50jjebjjpor/simple_correlation_100_x_y.npy?dl=0\n",
    "### https://www.dropbox.com/s/huiy2baip8z68ca/simple_correlation_1000_x_y.npy?dl=0\n",
    "### https://www.dropbox.com/s/ew850eai3gkk4st/simple_correlation_10000_x_y.npy?dl=0"
   ]
  },
  {
   "cell_type": "code",
   "execution_count": 7,
   "id": "7ecc62fb",
   "metadata": {},
   "outputs": [],
   "source": [
    "new_data = np.load('simple_correlation_100_x_y.npy')\n",
    "x = new_data[0,:]\n",
    "y = new_data[1,:]"
   ]
  },
  {
   "cell_type": "code",
   "execution_count": 8,
   "id": "12a796fc",
   "metadata": {},
   "outputs": [
    {
     "data": {
      "text/plain": [
       "<matplotlib.collections.PathCollection at 0x7fcd321ea5e0>"
      ]
     },
     "execution_count": 8,
     "metadata": {},
     "output_type": "execute_result"
    },
    {
     "data": {
      "image/png": "[encoded data removed]",
      "text/plain": [
       "<Figure size 432x288 with 1 Axes>"
      ]
     },
     "metadata": {
      "needs_background": "light"
     },
     "output_type": "display_data"
    }
   ],
   "source": [
    "plt.scatter(x+np.random.normal(0,0.05,len(x)),y,alpha=0.1)\n",
    "#plt.scatter(x,y)"
   ]
  },
  {
   "cell_type": "markdown",
   "id": "df0f1996",
   "metadata": {},
   "source": [
    "### 1. Write a simple function to calculate the y_0,mean(y) when x==0 and the y_1, mean(y) when x==1\n",
    "### 2. dy = mean(y_1) - mean(y_0)\n",
    "### 3. Estimate the uncertainty of dy with error propagation\n",
    "### 4. Estimate the uncertainty of dy with bootstrap"
   ]
  },
  {
   "cell_type": "code",
   "execution_count": null,
   "id": "c2841755",
   "metadata": {},
   "outputs": [],
   "source": []
  }
 ],
 "metadata": {
  "kernelspec": {
   "display_name": "Python 3 (ipykernel)",
   "language": "python",
   "name": "python3"
  },
  "language_info": {
   "codemirror_mode": {
    "name": "ipython",
    "version": 3
   },
   "file_extension": ".py",
   "mimetype": "text/x-python",
   "name": "python",
   "nbconvert_exporter": "python",
   "pygments_lexer": "ipython3",
   "version": "3.9.7"
  }
 },
 "nbformat": 4,
 "nbformat_minor": 5
}
